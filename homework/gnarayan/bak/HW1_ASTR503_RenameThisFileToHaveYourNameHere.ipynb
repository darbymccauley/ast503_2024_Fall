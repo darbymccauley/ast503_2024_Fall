{
 "cells": [
  {
   "cell_type": "code",
   "execution_count": 1,
   "id": "286771c4-4c9a-426b-940a-384b2acb5935",
   "metadata": {},
   "outputs": [],
   "source": [
    "%matplotlib notebook"
   ]
  },
  {
   "cell_type": "code",
   "execution_count": 2,
   "id": "f8c6d385-fb4e-4c6f-8bfa-e8d824f61dfa",
   "metadata": {},
   "outputs": [],
   "source": [
    "import numpy as np\n",
    "import scipy as sp\n",
    "import matplotlib.pyplot as plt\n",
    "import astropy as ap\n",
    "import specreduce"
   ]
  },
  {
   "cell_type": "markdown",
   "id": "da727b11-da3b-423a-be5e-287037d79cc5",
   "metadata": {},
   "source": [
    "### Even though you are submitting these with `git` and this file tells you to rename it, and you should be pushing to a dedicated folder with your username, please also stick your name in this file here, so there's extra redundancy. "
   ]
  },
  {
   "attachments": {},
   "cell_type": "markdown",
   "id": "b7a520d4-12c1-4c3c-a6af-3d24082e3cc4",
   "metadata": {},
   "source": [
    "The point of this assignment is to:\n",
    "- get comfortable with photon energy, frequency, and wavelength - calculate power and luminosity\n",
    "- know now to convert magnitudes, fluxes, photon counts.\n",
    "- start basic Python scripts and plotting\n",
    "\n",
    "# Q1. Make plot of the electromagnetic spectrum using Python. (30 pts)\n",
    "- Your plot should have multiple x-axes - one for wavelength (in meters), one for frequency (in Hz), one for energy (in eV)\n",
    "    (hint: `gridspec` or `subplots` in general can be used to do this. See if you can find something useful here: https://matplotlib.org/stable/gallery/index) (10 pts)\n",
    "- axes should be lograthmic, and each of these axes should have ticklabels that are exponential above or below (5 pts)\n",
    "- the wavelength axes should also have more conventional SI units for km, mm, micron, nm, Angstrom, and picometer labelled (5 pts)\n",
    "- label each region of the EM spectrum (10 pts)\n",
    "\n",
    " Something like this: \n",
    "\n",
    "<img src=\"https://aktinovolia.com/wp-content/uploads/aktinovolia.com-radiation-chart-electromagnetic-spectrum-rf-em-spectrum-rf-electromagnetic-3-.jpg\">\n",
    "\n",
    "or (except you should have energy too) \n",
    "\n",
    "<img src=\"https://multiphaseism.wordpress.com/wp-content/uploads/2013/05/electromagnetic_spectrum.jpg\">\n",
    "\n",
    "# Remember to save your script. Stay organized. You will be reusing code."
   ]
  },
  {
   "cell_type": "markdown",
   "id": "4118e0a6-4f29-41d8-9470-f7ad25a7c685",
   "metadata": {},
   "source": [
    "You are encouraged to add your own flourishes to the plot.\n",
    "Joseph is empowered to give out 5 points as he sees fit for aesthetics. \n",
    "\n",
    "Keep this plot handy. You should be able to intuitively convert between these values in your head. "
   ]
  },
  {
   "cell_type": "code",
   "execution_count": null,
   "id": "9720804d-8fc4-4626-8e92-4efac0de50b9",
   "metadata": {},
   "outputs": [],
   "source": []
  },
  {
   "cell_type": "markdown",
   "id": "f53c1085-0450-4672-8204-8801ecc62111",
   "metadata": {},
   "source": [
    "# Q2. Dealing with Data from Multiple Sources - adding passbands and atmospheric transmission (30 pts)\n",
    "\n",
    "### 2.1\n",
    "Get the Optical Atmospheric Transmission using the `specreduce` package\n",
    "    `pip install specreduce`\n",
    "    https://specreduce.readthedocs.io/en/latest/extinction.html\n",
    "\n",
    "Note that the optical transmission curves do not include the effect of molecules as the website tells you.\n",
    "Follow their instructions to add 2.3mm of Preciptiable Water Vapr at an Airmass of 1.0 to the optical transmission. \n",
    "\n",
    "Get NIR and MIR transmission curves from here (we're not using MIR this week, but you'll use this code next HW as well)\n",
    "\thttp://www.gemini.edu/sciops/telescopes-and-sites/observing-condition-constraints/ir-transmission-spectra\n",
    "(Cerro Pachon, 2.3mm of Precipitable Water Vapor, Airmass 1.0)\n",
    "\n",
    "\n",
    "### 2.2\n",
    "Get the LSST Filter Transmissions (ugrizy, filter only) from here:\n",
    "http://svo2.cab.inta-csic.es/theory/fps3/index.php?mode=browse\n",
    "\n",
    "and the IRTF (\\[JHK\\]_MK, filter only) transmissions from here:\n",
    "https://irtfweb.ifa.hawaii.edu/~nsfcam2/Filter_Profiles.html\n",
    "\n",
    "## !Please note that the filter tranmissions are determined by counting photons, not measuing energy! \n",
    "\n",
    "### 2.3\n",
    "\n",
    "Finally, get the SEDs of three stars from CALSPEC:\n",
    "https://www.stsci.edu/hst/instrumentation/reference-data-for-calibration-and-tools/astronomical-catalogs/calspec\n",
    "and for the actual data:\n",
    "https://archive.stsci.edu/hlsps/reference-atlases/cdbs/current_calspec/\n",
    "\n",
    "(There is no M5V but there is a M3.5V star - BD-11 3759)\n",
    "\n",
    "\n",
    "Finally, reconstruct a plot like this (set the wavelength ranges appropriately for the filters I've listed)\n",
    "<img src=\"https://www.researchgate.net/profile/C-Chiosi/publication/1925441/figure/fig1/AS:339731901632519@1458009805844/The-filter-sets-used-in-the-present-work-From-top-to-bottom-we-show-the-filter-detector.png\">\n",
    "\n",
    "except replace the middle panel with the atmospheric transmission from your interpolator.\n",
    "\n",
    "Something like this for the atmosphere plot (but until the wavelength you need): \n",
    "<img src=\"https://www.researchgate.net/profile/Joseph-Shaw-3/publication/260940640/figure/fig3/AS:296902361927680@1447798447054/Atmospheric-transmittance-versus-wavelength-calculated-with-Modtran5-for-a-zenith.png\">"
   ]
  },
  {
   "cell_type": "code",
   "execution_count": null,
   "id": "22da8777-bb7c-4d7c-9c82-7b31fe6366a7",
   "metadata": {},
   "outputs": [],
   "source": []
  },
  {
   "cell_type": "markdown",
   "id": "97ff8a9c-3345-43f1-ba03-71e6571cfc8e",
   "metadata": {},
   "source": [
    "# Q3. Combine the filter transmission and your atmosphere transmission - we'll assume the mirror and CCDs are perfect over the entire wavelength range. Implement the integrals for flux and magnitude discussed in Lecture 3 as python code. (40 pts)\n",
    "\n",
    "- You'll have to do something to `interpolate` measurements continuously across the full wavelength range you have across Optical to NIR (you can ignore the MIR file for now, but you'll want it next week)\n",
    "- Make sure the units are consistent for both wavelength and transmission before you write your interpolator or address differences in some other way \n",
    "- You'll need to make sure your interpolator can match the wavelength spacing of the SEDs in Q2\n",
    "- Rememeber that the intergrals intclude the transmission $T(\\lambda)$, which is not normalized properly, so make sure to normalize your integral appropriately\n",
    "- Normalize the synthetic flux in two ways\n",
    "    1. such as Vega has magnitude 0 in each band.\n",
    "    2. such that a synthetic AB source has magnitude 0 in each band\n",
    "\n",
    "Report the magitudes of the Sun and BD-11 3759 in the Vega and AB system, and the AB magnitudes of Vega in a table (columns = passbands, rows = star/system)\n",
    "\n",
    "- 15 pts each for the Sun and BD-11 3759 (2 pts for the six optical bands, 1 pt each for JHK) \n",
    "- 10 pts for the AB mags of Vega (yes, I know there are 9 bands, not 10, but you can have the one extra)"
   ]
  },
  {
   "cell_type": "code",
   "execution_count": null,
   "id": "e6e5d8e8-e67d-4895-a4ac-338bfe672ea5",
   "metadata": {},
   "outputs": [],
   "source": []
  },
  {
   "cell_type": "markdown",
   "id": "450cded4-556d-44ce-bed8-51d118932491",
   "metadata": {},
   "source": [
    "### Divide and conquer, so you encounter issues in parallel and can explain things to each other, rather than working in series. \n",
    "\n",
    "# Due Sep 17 at Noon!"
   ]
  }
 ],
 "metadata": {
  "kernelspec": {
   "display_name": "Python 3 (ipykernel)",
   "language": "python",
   "name": "python3"
  },
  "language_info": {
   "codemirror_mode": {
    "name": "ipython",
    "version": 3
   },
   "file_extension": ".py",
   "mimetype": "text/x-python",
   "name": "python",
   "nbconvert_exporter": "python",
   "pygments_lexer": "ipython3",
   "version": "3.7.16"
  }
 },
 "nbformat": 4,
 "nbformat_minor": 5
}
