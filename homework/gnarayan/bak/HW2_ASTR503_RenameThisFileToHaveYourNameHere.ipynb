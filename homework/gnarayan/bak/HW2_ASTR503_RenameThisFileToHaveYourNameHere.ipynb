{
 "cells": [
  {
   "cell_type": "code",
   "execution_count": null,
   "id": "7c0bdf45-afbc-45fd-a908-dd0606a5d2f2",
   "metadata": {},
   "outputs": [],
   "source": [
    "%matplotlib inline"
   ]
  },
  {
   "cell_type": "code",
   "execution_count": null,
   "id": "3827f935-bb0e-4c31-b89a-154d86a31b33",
   "metadata": {},
   "outputs": [],
   "source": [
    "import numpy as np\n",
    "import scipy as sp\n",
    "import matplotlib.pyplot as plt\n",
    "import astropy as ap\n",
    "import astropy.table as at\n",
    "import astropy.units as u\n",
    "from astropy.cosmology import FlatLambdaCDM\n",
    "cosmo = FlatLambdaCDM(H0=70, Om0=0.3)"
   ]
  },
  {
   "cell_type": "markdown",
   "id": "fd147422-1c81-4879-8e05-7dc9923a97ba",
   "metadata": {},
   "source": [
    "### Even though you are submitting these with `git` and this file tells you to rename it, and you should be pushing to a dedicated folder with your username, please also stick your name in this file here, so there's extra redundancy. "
   ]
  },
  {
   "cell_type": "markdown",
   "id": "e762ef1f-fac9-43ca-b557-c4b122e4078f",
   "metadata": {},
   "source": [
    "The point of this assignment is to:\n",
    "- to make sure you have a sense of fluxes, magnitudes and distances as a function of redshift\n",
    "- get familiar with drawing random numbers from a distribution, making cuts on your data\n",
    "- modeling in the presence of systematic effects and the resulting biases you'll encounter\n",
    "\n",
    "# Q1. The $k$-correction in the sub-mm and the optical (60 pts)\n",
    "\n",
    "You know how to calculate the flux synthetically in some band, but what about comparing the flux of the same class of objects at different redshifts. Necessarily, you'll have to compare the rest-frame flux with the observer frame flux further in the red at some redshift $z$ because the Universe is expanding and frequency of photons is shifting. \n",
    "\n",
    "To do this, you need the \"$k$-correction\" which is nicely summarized in Hogg et al. 2002: https://arxiv.org/abs/astro-ph/0210394\n",
    "(You might start by looking at Eqn. 12, and comparing it to the synthetic integrals for the flux you implemented in Homework 1)\n",
    "\n",
    "As we discussed in class (or as you might know if you've listened to a talk from Prof. Joaquin Vieira) galaxies have an interesting effect where the flux density $F_\\nu$ from about 250$\\mu m$ becomes roughly constant over a large range in redshift because you climb the Rayleigh-Jeans tail as you increase redshift, which compensates for the decrease in the flux density because of increasing distance. In the optical, you have no such luck, and indeed, depending on the class of galaxy, the $k$-correction means that galaxies in a fixed observer band might seem even fainter than you might expect from the inverse square law. \n",
    "\n",
    "In particular, the $k$-correction goes negative. \n",
    "\n",
    "In this problem, you'll implement the k-correction (reuse the code from HW1 and simplify Eqn 12).\n",
    "\n",
    "I've included an SED of a galaxy ```aless_average_seds.dat``` from Elisabete de Cunha (you can read about it here: http://astronomy.swinburne.edu.au/~ecunha/ecunha/SED_Templates.html) with this homework. The columns are wavelength (in microns), average $F_\\nu$ (in mJy), and upper and lower credible regions on the flux density.\n",
    "\n",
    "Your mission is to make three plots (15 points each for the plot):\n",
    "\n",
    "- Fig 1. should plot the flux density in mJy of this SED as a function of redshift (see here: https://ned.ipac.caltech.edu/level5/Sept04/Blain/Blain2_5.html) in common bands - assume perfectly rectangular bands with a fixed 3  micron bandwidth around the central wavelengths shown in the above figure. (Hint: this doesn't need you to actually compute the $k$-correction explicitly yet, but you will need to be careful about units and show that you know how to redshift and dim an SED). Evaluate this on a grid of redshift from $z$=1 to $z$=8 (inclusive) with $\\Delta z$=0.25 spacing.\n",
    "\n",
    "- Fig 2. should plot the flux density (in mJy) of the SED as a function of wavelength in microns (see the 2nd animation here: http://www.as.utexas.edu/~cmcasey/animated.html) over the same redshift grid (you can use $\\Delta z$=0.50 to make it less cluttered if you like) and overplot the sub-mm bands for BICEP2 (http://svo2.cab.inta-csic.es/theory/fps3/index.php?mode=browse&gname=BICEP&gname2=BICEP2&asttype=) \n",
    "  \n",
    "- Fig 3. should plot the $k$-correction (in magnitudes) itself for LSST giy bands as a function of redshift between $z$=0. and $z=2$ in $\\Delta z$=0.01 steps (you can use whatever linestyle you like to join the lines, but make sure you use a different color for each of the observer frames). The Hogg et al. 2002 will need you to specify a rest-frame filter for each of the observer frame filters. Use the same LSST ugrizy filter set and determine which one is at the closest effective wavelength to the observer frame filter's effective wavelength at each redshift. If there is no band that maps well to an observer frame band (i.e. the the rest-frame filter has redshifted out of the observer frame filter) stop computing the $k$-correction for that filter. \n",
    "\n",
    "Hint: Astropy has a units module to help convert between different units and an equivalencies option particularly to convert between wavelengths and frequencies (https://docs.astropy.org/en/stable/units/equivalencies.html). You can try to do it by hand, but if you mess it up, you'll get rubbish. It also has a cosmology module to compute luminosity distance as a function of redshift - you can assume a Flat $\\Lambda$CDM cosmology. \n",
    "\n",
    "### This is not actually all that much code if you break it into a few functions."
   ]
  },
  {
   "cell_type": "code",
   "execution_count": null,
   "id": "03733759-6c80-46c2-a5d6-a54b5405bbe9",
   "metadata": {},
   "outputs": [],
   "source": [
    "#!wget http://astronomy.swinburne.edu.au/~ecunha/ecunha/SED_Templates_files/aless_average_seds.dat"
   ]
  },
  {
   "cell_type": "code",
   "execution_count": null,
   "id": "b2560f10-8486-40c0-9be2-7ef7d9ea75e8",
   "metadata": {},
   "outputs": [],
   "source": [
    "data = at.Table.read('aless_average_seds.dat', format='ascii', names=['wave','fnu', 'fnu_bright', 'fnu_faint'], data_start=1)"
   ]
  },
  {
   "cell_type": "code",
   "execution_count": null,
   "id": "03018037-923d-4bea-aa19-cb4e7acdde14",
   "metadata": {},
   "outputs": [],
   "source": []
  },
  {
   "cell_type": "markdown",
   "id": "479cfe2e-96af-4668-9b7e-d71b978f99f6",
   "metadata": {},
   "source": [
    "# Q2 - Supernovae and $H_0$ (40 pts - 10 per part)\n",
    "\n",
    "For this simulation, we will generate a sample of type Ia supernovae. These are special as they have similar intrinsic brightness, so that their apparent flux can be used to measure how far away they are. If their redshift is also measured, the measurements can be used to calculate the expansion rate of the Universe, or Hubble's constant.\n",
    "\n",
    "We want to understand *how* brightness limits affect the use of type Ia supernovae observations in the measurement of the Hubble constant, $H_0$. To do so, we will use Monte Carlo computations to generate a set of simulated data. \n",
    "\n",
    "A subtle effect occurs in this measurement, called Malmquist bias, that can affect the result. The effect is caused by the range of apparent brightness for supernova. Supernova in our simulation have an absolute magnitude of M=-19. \n",
    "\n",
    "Assume the supernova have a scatter about their absolute magnitude of approximately 1 magnitude (this is much too large, but it is to exaggerate the effect we'll see). 1-2m class survey telescopes will detect objects as faint as m=21 in about a minute of exposure - treat this is as their reliable detection limit - i.e. sources <= 21 are detected 100% of the time. Sources > 21 are detected with 0% efficiency. This is obviously unrealistic, but it'll suffice for now.\n",
    "\n",
    "The limiting magnitude corresponds to a distance modulus m-M=5 log10(d/10 pc) of 40, which suggests that supernova can be seen at least as far away as 1000 Mpc. \n",
    "\n",
    "(We will assume that over this distance, the SED of SNe Ia are approximately constant so we can happily neglect the $k$-correction, so you will not murder me after you have suffered through Q1)\n",
    "\n",
    "Assume supernova are formed uniformly throughout *a sphere* with radius r=2500 Mpc. In the data generation part of the simulation, assume that each supernova is receding at a rate v=H0*d, where H0 is 72km/s/Mpc and d is the distance in Mpc. For each supernova you simulate, also create a peculiar velocity array that you can add to the recession velocity by drawing from a Gaussian distribution with mean 0, and standard deviation of 600 km/s. (Hint: \"uniformly in a sphere\" is definitely a trap and you should think about what you are doing)\n",
    "\n",
    "1. Create a Monte Carlo program to generate 100 randomly placed supernovae within this volume. Have the program generate the true distances, $d$, to the supernovae. Calculate the mean distance for the supernovae.\n",
    "\n",
    "2. Now assume each supernovae has a brightness governed by M = -19 +G(1) where G(1) is a random number with Gaussian distribution and standard deviation of one magnitude. Calculate the apparent magnitude of each supernovae using the distance generated in part (1). If m>21, assume the object is too faint to detect and reject it from the sample. Create a plot of magnitude versus distance for all the supernovae. Write out the *average* magnitudes of the original sample and the detected sample. \n",
    "\n",
    "3. Generate the velocities (both recession and peculiar) as described earlier. Generate an observed distance ($d'$) by using its apparent magnitude and Hubble’s law, with the *assumption* that the supernova has an absolute magnitude (M) of -19. Plot the observed distance on the x-axis and total velocity on the y-axis and compare it to the true distance. Explain the effect of the observing limit on the resulting sample. \n",
    "\n",
    "4. Calculate $H_0$ by fitting a line to all your detected points. Discuss the level of the bias from the fit you get to the true points. How much of an impact does the peculiar velocity have? How could you account for Malmquist bias and peculiar velocity in the observations? Repeat for N=1000, 10000 SNe (and as with Q1, make your code use approrpiate functions so you can just call it for different sample sizes) to see if the effects persist as a function of sample size. "
   ]
  },
  {
   "cell_type": "code",
   "execution_count": null,
   "id": "fb951aa8-5dfd-472c-b468-49d9c7cf7a6c",
   "metadata": {},
   "outputs": [],
   "source": []
  },
  {
   "cell_type": "markdown",
   "id": "164a116a-aca0-4d69-bd3b-552402d27cf0",
   "metadata": {},
   "source": [
    "### Divide and conquer, so you encounter issues in parallel and can explain things to each other, rather than working in series. \n",
    "\n",
    "# Due Oct 1 at Noon!"
   ]
  }
 ],
 "metadata": {
  "kernelspec": {
   "display_name": "Python 3 (ipykernel)",
   "language": "python",
   "name": "python3"
  },
  "language_info": {
   "codemirror_mode": {
    "name": "ipython",
    "version": 3
   },
   "file_extension": ".py",
   "mimetype": "text/x-python",
   "name": "python",
   "nbconvert_exporter": "python",
   "pygments_lexer": "ipython3",
   "version": "3.10.14"
  }
 },
 "nbformat": 4,
 "nbformat_minor": 5
}
